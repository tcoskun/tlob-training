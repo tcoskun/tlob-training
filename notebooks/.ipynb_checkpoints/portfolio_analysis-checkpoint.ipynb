{
  "cells": [
    {
      "cell_type": "markdown",
      "metadata": {},
      "source": [
        "# Portfolio Analizi - VectorBT ile\n",
        "\n",
        "Bu notebook, VectorBT kullanarak LOB verilerinden portfolio analizi yapan basit bir projedir.\n",
        "\n",
        "## Proje Özeti\n",
        "- **Amaç**: LOB verilerinden portfolio performans analizi yapmak\n",
        "- **Kütüphane**: VectorBT - Backtesting ve portfolio analizi\n",
        "- **Veri**: AKBNK hisse senedi LOB verileri\n",
        "- **Stratejiler**: Momentum, Mean Reversion, Random\n",
        "\n",
        "## İçerik\n",
        "1. [Gerekli Kütüphanelerin Yüklenmesi](#1-gerekli-kütüphanelerin-yüklenmesi)\n",
        "2. [Konfigürasyon Yükleme](#2-konfigürasyon-yükleme)\n",
        "3. [Portfolio Analyzer Import](#3-portfolio-analyzer-import)\n",
        "4. [Veri Yükleme](#4-veri-yükleme)\n",
        "5. [Portfolio Oluşturma](#5-portfolio-oluşturma)\n",
        "6. [Performans Analizi](#6-performans-analizi)\n",
        "7. [Görselleştirme](#7-görselleştirme)\n",
        "\n",
        "## ⚠️ Önemli Not\n",
        "Bu notebook'u hücreleri sırayla çalıştırın. Her hücre önceki hücrelerin tamamlanmasını bekler."
      ]
    },
    {
      "cell_type": "markdown",
      "metadata": {},
      "source": [
        "## 1. Gerekli Kütüphanelerin Yüklenmesi"
      ]
    },
    {
      "cell_type": "code",
      "execution_count": null,
      "metadata": {},
      "outputs": [],
      "source": [
        "# Temel kütüphaneler\n",
        "import os\n",
        "import sys\n",
        "import yaml\n",
        "import warnings\n",
        "import glob\n",
        "import pandas as pd\n",
        "import numpy as np\n",
        "from pathlib import Path\n",
        "import json\n",
        "from datetime import datetime\n",
        "\n",
        "# Görselleştirme kütüphaneleri\n",
        "import matplotlib.pyplot as plt\n",
        "import seaborn as sns\n",
        "from matplotlib import rcParams\n",
        "\n",
        "# VectorBT\n",
        "import vectorbt as vbt\n",
        "\n",
        "# Proje kök dizinini bul ve Python path'ine ekle\n",
        "project_root = os.path.dirname(os.path.abspath('.'))\n",
        "sys.path.append(project_root)\n",
        "\n",
        "# Uyarıları kapat\n",
        "warnings.filterwarnings('ignore')\n",
        "\n",
        "# VectorBT ayarları\n",
        "vbt.settings.returns['year_freq'] = '252 days'\n",
        "vbt.settings.array_wrapper['freq'] = '1T'  # 1 dakika\n",
        "\n",
        "# Matplotlib ayarları\n",
        "plt.style.use('seaborn-v0_8')\n",
        "rcParams['figure.figsize'] = (12, 8)\n",
        "rcParams['font.size'] = 10\n",
        "\n",
        "print(\"✅ Kütüphaneler başarıyla yüklendi!\")\n",
        "print(f\"📁 Proje kök dizini: {project_root}\")"
      ]
    },
    {
      "cell_type": "markdown",
      "metadata": {},
      "source": [
        "## 2. Konfigürasyon Yükleme"
      ]
    },
    {
      "cell_type": "code",
      "execution_count": null,
      "metadata": {},
      "outputs": [],
      "source": [
        "def load_config():\n",
        "    \"\"\"Konfigürasyon dosyasını yükle\"\"\"\n",
        "    # Proje kök dizinindeki config dosyasını kullan\n",
        "    config_path = os.path.join(project_root, 'config', 'config.yaml')\n",
        "    \n",
        "    if not os.path.exists(config_path):\n",
        "        # Alternatif olarak mevcut dizinde ara\n",
        "        alt_config_path = 'config/config.yaml'\n",
        "        if os.path.exists(alt_config_path):\n",
        "            config_path = alt_config_path\n",
        "        else:\n",
        "            raise FileNotFoundError(f\"Konfigürasyon dosyası bulunamadı: {config_path}\")\n",
        "    \n",
        "    print(f\"📂 Konfigürasyon dosyası yükleniyor: {config_path}\")\n",
        "    with open(config_path, 'r') as file:\n",
        "        return yaml.safe_load(file)\n",
        "\n",
        "# Konfigürasyonu yükle\n",
        "config = load_config()\n",
        "portfolio_config = config.get('portfolio', {})\n",
        "print(\"📋 Portfolio Konfigürasyonu yüklendi:\")\n",
        "print(f\"   Strategy Type: {portfolio_config.get('strategy_type', 'random')}\")\n",
        "print(f\"   Initial Cash: {portfolio_config.get('init_cash', 10000)}\")\n",
        "print(f\"   Data Directory: {portfolio_config.get('data_directory', 'data')}\")\n",
        "\n",
        "# Gerekli dizinleri oluştur\n",
        "results_dir = os.path.join(project_root, 'results')\n",
        "os.makedirs(results_dir, exist_ok=True)\n",
        "print(\"✅ Gerekli dizinler oluşturuldu\")"
      ]
    },
    {
      "cell_type": "markdown",
      "metadata": {},
      "source": [
        "## 3. Portfolio Analyzer Import"
      ]
    },
    {
      "cell_type": "code",
      "execution_count": null,
      "metadata": {},
      "outputs": [],
      "source": [
        "# Portfolio analyzer'ı import et\n",
        "from src.portfolio_analyzer import PortfolioAnalyzer\n",
        "\n",
        "print(\"✅ Portfolio analyzer hazır!\")"
      ]
    },
    {
      "cell_type": "markdown",
      "metadata": {},
      "source": [
        "## 4. Veri Yükleme"
      ]
    },
    {
      "cell_type": "code",
      "execution_count": null,
      "metadata": {},
      "outputs": [],
      "source": [
        "# Portfolio analyzer'ı başlat\n",
        "print(\"🏗️ Portfolio analyzer başlatılıyor...\")\n",
        "analyzer = PortfolioAnalyzer(portfolio_config)\n",
        "\n",
        "# Data dizinini kontrol et\n",
        "data_dir = os.path.join(project_root, portfolio_config.get('data_directory', 'data'))\n",
        "print(f\"📂 Data dizini: {data_dir}\")\n",
        "print(f\"📂 Data dizini var mı: {os.path.exists(data_dir)}\")\n",
        "\n",
        "if os.path.exists(data_dir):\n",
        "    csv_files = [f for f in os.listdir(data_dir) if f.endswith('.csv')]\n",
        "    print(f\"📄 CSV dosyaları: {csv_files}\")\n",
        "\n",
        "# LOB verilerini yükle\n",
        "print(\"📊 LOB verileri yükleniyor...\")\n",
        "price_data = analyzer.load_lob_data(data_dir)\n",
        "\n",
        "print(f\"✅ {len(price_data)} fiyat noktası yüklendi\")\n",
        "print(f\"💰 Fiyat aralığı: {price_data.min().iloc[0]:.4f} - {price_data.max().iloc[0]:.4f}\")\n",
        "print(f\"📅 Tarih aralığı: {price_data.index[0]} - {price_data.index[-1]}\")"
      ]
    },
    {
      "cell_type": "markdown",
      "metadata": {},
      "source": [
        "## 5. Portfolio Oluşturma"
      ]
    },
    {
      "cell_type": "code",
      "execution_count": null,
      "metadata": {},
      "outputs": [],
      "source": [
        "# Portfolio oluştur\n",
        "strategy_type = portfolio_config.get('strategy_type', 'random')\n",
        "init_cash = portfolio_config.get('init_cash', 10000)\n",
        "\n",
        "print(f\"🏗️ {strategy_type} stratejisi ile portfolio oluşturuluyor...\")\n",
        "portfolio = analyzer.create_portfolio_from_orders(price_data, strategy_type, init_cash)\n",
        "\n",
        "print(\"✅ Portfolio başarıyla oluşturuldu!\")\n",
        "print(f\"💰 Başlangıç değeri: {init_cash:.2f}\")\n",
        "print(f\"💰 Son değer: {portfolio.value.iloc[-1]:.2f}\")"
      ]
    },
    {
      "cell_type": "markdown",
      "metadata": {},
      "source": [
        "## 6. Performans Analizi"
      ]
    },
    {
      "cell_type": "code",
      "execution_count": null,
      "metadata": {},
      "outputs": [],
      "source": [
        "# Portfolio performansını analiz et\n",
        "print(\"📊 Portfolio performansı analiz ediliyor...\")\n",
        "performance = analyzer.analyze_performance(portfolio)\n",
        "\n",
        "# Performans raporunu yazdır\n",
        "analyzer.print_performance_report(performance)"
      ]
    },
    {
      "cell_type": "markdown",
      "metadata": {},
      "source": [
        "## 7. Görselleştirme"
      ]
    },
    {
      "cell_type": "code",
      "execution_count": null,
      "metadata": {},
      "outputs": [],
      "source": [
        "# Portfolio görselleştirmesi\n",
        "print(\"📊 Portfolio görselleştirmesi oluşturuluyor...\")\n",
        "analyzer.plot_portfolio(portfolio, price_data)\n",
        "\n",
        "print(\"✅ Portfolio görselleştirmesi tamamlandı!\")"
      ]
    },
    {
      "cell_type": "markdown",
      "metadata": {},
      "source": [
        "## 8. Farklı Stratejilerle Karşılaştırma"
      ]
    },
    {
      "cell_type": "code",
      "execution_count": null,
      "metadata": {},
      "outputs": [],
      "source": [
        "# Farklı stratejileri test et\n",
        "strategies = ['momentum', 'mean_reversion', 'random']\n",
        "strategy_results = {}\n",
        "\n",
        "print(\"🔍 Farklı stratejiler test ediliyor...\")\n",
        "print(\"=\" * 60)\n",
        "\n",
        "for strategy in strategies:\n",
        "    print(f\"\\n📊 {strategy.upper()} stratejisi test ediliyor...\")\n",
        "    \n",
        "    # Portfolio oluştur\n",
        "    test_portfolio = analyzer.create_portfolio_from_orders(price_data, strategy, init_cash)\n",
        "    \n",
        "    # Performans analizi\n",
        "    test_performance = analyzer.analyze_performance(test_portfolio)\n",
        "    strategy_results[strategy] = test_performance\n",
        "    \n",
        "    # Sonuçları yazdır\n",
        "    print(f\"   Toplam Getiri: {test_performance['total_return']:.2%}\")\n",
        "    print(f\"   Sharpe Oranı: {test_performance['sharpe_ratio']:.3f}\")\n",
        "    print(f\"   Maksimum Drawdown: {test_performance['max_drawdown']:.2%}\")\n",
        "    print(f\"   Kazanma Oranı: {test_performance['win_rate']:.2%}\")\n",
        "\n",
        "print(\"\\n✅ Tüm stratejiler test edildi!\")"
      ]
    },
    {
      "cell_type": "markdown",
      "metadata": {},
      "source": [
        "## 9. Sonuçları Kaydetme"
      ]
    },
    {
      "cell_type": "code",
      "execution_count": null,
      "metadata": {},
      "outputs": [],
      "source": [
        "# Sonuçları kaydet\n",
        "print(\"💾 Portfolio sonuçları kaydediliyor...\")\n",
        "\n",
        "# Ana portfolio sonuçları\n",
        "portfolio_results = {\n",
        "    'strategy': strategy_type,\n",
        "    'initial_cash': init_cash,\n",
        "    'performance': performance,\n",
        "    'timestamp': datetime.now().isoformat()\n",
        "}\n",
        "\n",
        "# Strateji karşılaştırma sonuçları\n",
        "comparison_results = {\n",
        "    'strategies': strategy_results,\n",
        "    'timestamp': datetime.now().isoformat()\n",
        "}\n",
        "\n",
        "# JSON dosyalarına kaydet\n",
        "portfolio_file = os.path.join(results_dir, 'portfolio_analysis.json')\n",
        "comparison_file = os.path.join(results_dir, 'portfolio_comparison.json')\n",
        "\n",
        "with open(portfolio_file, 'w', encoding='utf-8') as f:\n",
        "    json.dump(portfolio_results, f, indent=2, ensure_ascii=False, default=str)\n",
        "\n",
        "with open(comparison_file, 'w', encoding='utf-8') as f:\n",
        "    json.dump(comparison_results, f, indent=2, ensure_ascii=False, default=str)\n",
        "\n",
        "print(\"✅ Portfolio sonuçları kaydedildi:\")\n",
        "print(f\"   Portfolio analizi: {portfolio_file}\")\n",
        "print(f\"   Strateji karşılaştırması: {comparison_file}\")\n",
        "\n",
        "print(\"\\n🎉 Portfolio Analizi Tamamlandı!\")"
      ]
    }
  ],
  "metadata": {
    "kernelspec": {
      "display_name": "Python 3",
      "language": "python",
      "name": "python3"
    },
    "language_info": {
      "codemirror_mode": {
        "name": "ipython",
        "version": 3
      },
      "file_extension": ".py",
      "mimetype": "text/x-python",
      "name": "python",
      "nbconvert_exporter": "python",
      "pygments_lexer": "ipython3",
      "version": "3.10.3"
    }
  },
  "nbformat": 4,
  "nbformat_minor": 4
}